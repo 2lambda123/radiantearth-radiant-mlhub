{
 "cells": [
  {
   "cell_type": "markdown",
   "metadata": {},
   "source": [
    "[![Radiant MLHub Logo](https://radiant-assets.s3-us-west-2.amazonaws.com/PrimaryRadiantMLHubLogo.png)](https://mlhub.earth/)"
   ]
  },
  {
   "cell_type": "markdown",
   "metadata": {},
   "source": [
    "# Working with Collections\n",
    "\n",
    "This notebook will walk you through a few common techniques for discovering and working with Radiant MLHub Collections."
   ]
  },
  {
   "cell_type": "markdown",
   "metadata": {},
   "source": [
    "## Setup\n",
    "\n",
    "### Create an API Key\n",
    "\n",
    "Before using the Radiant MLHub API (or the `radiant_mlhub` library) you will need an API key. Anyone can register for an API key by going to https://dashboard.mlhub.earth and creating an account. Once you have logged into your account, go to http://dashboard.mlhub.earth/api-keys to create API keys.\n",
    "\n",
    "### Configure the Client\n",
    "\n",
    "Once you have your API key, you need to configure the `radiant_mlhub` library to use that key. There are a number of ways to configure this (see the [Authentication docs](https://radiant-mlhub.readthedocs.io/en/latest/authentication.html) for details). \n",
    "\n",
    "For these examples, we will set the `MLHUB_API_KEY` environment variable using an IPython widget. Run the cell below to create a text prompt, enter you API key in the text box that appears, and hit Enter.\n"
   ]
  },
  {
   "cell_type": "code",
   "execution_count": 1,
   "metadata": {},
   "outputs": [],
   "source": [
    "import os\n",
    "\n",
    "os.environ['MLHUB_API_KEY'] = 'ENTER-YOUR-KEY-HERE'"
   ]
  },
  {
   "cell_type": "markdown",
   "metadata": {},
   "source": [
    "### Import Libraries"
   ]
  },
  {
   "cell_type": "code",
   "execution_count": 2,
   "metadata": {},
   "outputs": [],
   "source": [
    "from pprint import pprint\n",
    "import itertools as it"
   ]
  },
  {
   "cell_type": "markdown",
   "metadata": {},
   "source": [
    "## `Collection` Class\n",
    "\n",
    "Using the `radiant_mlhub.Collection` class is the recommended method for working with Collections from the Radiant MLHub API (see [Low-Level Client](#Low-Level-Client) docs below for how to work with these Collections as Python data types).\n",
    "\n",
    "The `radiant_mlhub.Collection` class inherits from the [`pystac.Collection` class](https://pystac.readthedocs.io/en/latest/api.html#collection) and adds a few convenience methods for working with the Radiant MLHub API:\n",
    "\n",
    "* `Collection.list`: A class method for listing the collections available from the API\n",
    "* `Collection.fetch`: A class method for fetching a collection from the API by ID."
   ]
  },
  {
   "cell_type": "code",
   "execution_count": 3,
   "metadata": {},
   "outputs": [],
   "source": [
    "from radiant_mlhub import Collection"
   ]
  },
  {
   "cell_type": "markdown",
   "metadata": {},
   "source": [
    "### Listing Collections\n",
    "\n",
    "The `Collection.list` method is a generator that yields `Collection` instances. We can use the attributes provided by `pystac.Collection` to inspect the collection."
   ]
  },
  {
   "cell_type": "code",
   "execution_count": 4,
   "metadata": {},
   "outputs": [
    {
     "name": "stdout",
     "output_type": "stream",
     "text": [
      "ref_african_crops_kenya_01_labels: African Crops Kenya\n",
      "ref_african_crops_kenya_01_source: African Crops Kenya Source Imagery\n",
      "ref_african_crops_tanzania_01_labels: African Crops Tanzania\n",
      "ref_african_crops_tanzania_01_source: African Crops Tanzania Source Imagery\n",
      "ref_african_crops_uganda_01_labels: African Crops Uganda\n",
      "ref_african_crops_uganda_01_source: African Crops Uganda Source Imagery\n",
      "microsoft_chesapeake_landsat_leaf_off: Microsoft Chesapeake Landsat 8 Leaf-Off Composite\n",
      "microsoft_chesapeake_buildings: Microsoft Chesapeake Buildings\n",
      "sn4_AOI_6_Atlanta: SpaceNet 4 Atlanta Chipped Training Dataset\n",
      "ref_african_crops_kenya_02_labels: No Description\n"
     ]
    }
   ],
   "source": [
    "collections = Collection.list()\n",
    "\n",
    "# Print info for the first 10 collections\n",
    "for collection in it.islice(collections, 10):\n",
    "    print(f'{collection.id}: {collection.description}')\n"
   ]
  },
  {
   "cell_type": "markdown",
   "metadata": {},
   "source": [
    "### Fetching a Collection\n",
    "\n",
    "If you have the ID of a collection, you can also fetch it directly."
   ]
  },
  {
   "cell_type": "code",
   "execution_count": 5,
   "metadata": {},
   "outputs": [
    {
     "name": "stdout",
     "output_type": "stream",
     "text": [
      "{'assets': {},\n",
      " 'description': 'BigEarthNet v1.0',\n",
      " 'extent': {'spatial': {'bbox': [[-9.00023345437725,\n",
      "                                  1.7542686833884724,\n",
      "                                  83.44558248555553,\n",
      "                                  68.02168200047284]]},\n",
      "            'temporal': {'interval': [['2017-06-13T10:10:31Z',\n",
      "                                       '2018-05-29T11:54:01Z']]}},\n",
      " 'id': 'bigearthnet_v1_labels',\n",
      " 'keywords': [],\n",
      " 'license': 'CDLA-Permissive-1.0',\n",
      " 'links': [{'href': 'https://api.radiant.earth/mlhub/v1/collections/bigearthnet_v1_labels',\n",
      "            'rel': 'self',\n",
      "            'type': 'application/json'},\n",
      "           {'href': 'https://api.radiant.earth/mlhub/v1',\n",
      "            'rel': 'root',\n",
      "            'type': 'application/json'}],\n",
      " 'properties': {},\n",
      " 'providers': [{'name': 'BigEarthNet',\n",
      "                'roles': ['processor', 'licensor'],\n",
      "                'url': 'https://api.radiant.earth/mlhub/v1/download/gAAAAABf_2NrT6OYOB0OB3WLMv8v3LIBHeWps1G6Zr6eonhv_GxnjnkcdwOi_qSxfyushsHo9Ou4RzyKlDiNOre2hkd597h4nDbjLcKmi12v6x7l96P-ScEw3vhES8jwYvGVnqdrxWVIgxD-I--_mpXRq-Ir0EofuXCKD_C3Ekw24IfcRvAHYg9SQjViENrBCRYVDGrFXRGD1KH0YbgxheiOyfybyEQcvz1LiUnuzCxrk1To7e5vNvY='}],\n",
      " 'sci:citation': 'G. Sumbul, M. Charfuelan, B. Demir, V. Markl, \"BigEarthNet: '\n",
      "                 'A Large-Scale Benchmark Archive for Remote Sensing Image '\n",
      "                 'Understanding\", IEEE International Geoscience and Remote '\n",
      "                 'Sensing Symposium, pp. 5901-5904, Yokohama, Japan, 2019.',\n",
      " 'stac_extensions': ['label', 'sci'],\n",
      " 'stac_version': '1.0.0-beta.2',\n",
      " 'summaries': {},\n",
      " 'title': None}\n"
     ]
    }
   ],
   "source": [
    "bigearthnet_labels = Collection.fetch('bigearthnet_v1_labels')\n",
    "\n",
    "pprint(bigearthnet_labels.to_dict())"
   ]
  },
  {
   "cell_type": "markdown",
   "metadata": {},
   "source": [
    "# Low-Level Client\n",
    "\n",
    "**COMING SOON**"
   ]
  },
  {
   "cell_type": "code",
   "execution_count": null,
   "metadata": {},
   "outputs": [],
   "source": []
  }
 ],
 "metadata": {
  "kernelspec": {
   "display_name": "Python 3",
   "language": "python",
   "name": "python3"
  },
  "language_info": {
   "codemirror_mode": {
    "name": "ipython",
    "version": 3
   },
   "file_extension": ".py",
   "mimetype": "text/x-python",
   "name": "python",
   "nbconvert_exporter": "python",
   "pygments_lexer": "ipython3",
   "version": "3.8.6"
  }
 },
 "nbformat": 4,
 "nbformat_minor": 4
}
